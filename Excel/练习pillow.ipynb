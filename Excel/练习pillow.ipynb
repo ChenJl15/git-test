{
 "cells": [
  {
   "cell_type": "markdown",
   "source": [
    "+ 创建excel，将单元格设置为方格\n",
    "+ 打开图片，提取像素颜色\n",
    "+ 将颜色填充到单元格"
   ],
   "metadata": {
    "collapsed": false
   },
   "id": "cc4d4fb0e49b5b7"
  },
  {
   "cell_type": "markdown",
   "source": [
    "处理excel模块 xlsxwriter\n",
    "处理图片模块 pillow "
   ],
   "metadata": {
    "collapsed": false
   },
   "id": "a4be47f126c4938"
  },
  {
   "cell_type": "code",
   "execution_count": 1,
   "outputs": [],
   "source": [
    "from PIL import Image"
   ],
   "metadata": {
    "collapsed": false,
    "ExecuteTime": {
     "end_time": "2023-11-06T12:48:47.539468100Z",
     "start_time": "2023-11-06T12:48:47.508468300Z"
    }
   },
   "id": "bb2957529b49b33a"
  },
  {
   "cell_type": "code",
   "execution_count": 10,
   "outputs": [],
   "source": [
    "img=Image.open(\"./狗狗.jpeg\")\n",
    "img.show()"
   ],
   "metadata": {
    "collapsed": false,
    "ExecuteTime": {
     "end_time": "2023-11-06T12:57:00.328389300Z",
     "start_time": "2023-11-06T12:56:56.765386Z"
    }
   },
   "id": "2d787ce6cb08aa9e"
  },
  {
   "cell_type": "code",
   "execution_count": 4,
   "outputs": [
    {
     "name": "stdout",
     "output_type": "stream",
     "text": [
      "(1024, 1024)\n"
     ]
    }
   ],
   "source": [
    "print(img.size)"
   ],
   "metadata": {
    "collapsed": false,
    "ExecuteTime": {
     "end_time": "2023-11-06T12:55:07.693023200Z",
     "start_time": "2023-11-06T12:55:07.675023200Z"
    }
   },
   "id": "77460b90f08a61c2"
  },
  {
   "cell_type": "code",
   "execution_count": 11,
   "outputs": [
    {
     "data": {
      "text/plain": "(246, 251, 245)"
     },
     "execution_count": 11,
     "metadata": {},
     "output_type": "execute_result"
    }
   ],
   "source": [
    "img.getpixel((10,100))"
   ],
   "metadata": {
    "collapsed": false,
    "ExecuteTime": {
     "end_time": "2023-11-06T12:57:15.686926Z",
     "start_time": "2023-11-06T12:57:15.682424500Z"
    }
   },
   "id": "41c78271bf6f8e70"
  },
  {
   "cell_type": "code",
   "execution_count": 14,
   "outputs": [
    {
     "data": {
      "text/plain": "(250, 253, 244)"
     },
     "execution_count": 14,
     "metadata": {},
     "output_type": "execute_result"
    }
   ],
   "source": [
    "img.getpixel((1023,1023))"
   ],
   "metadata": {
    "collapsed": false,
    "ExecuteTime": {
     "end_time": "2023-11-06T12:57:51.275240700Z",
     "start_time": "2023-11-06T12:57:51.266494300Z"
    }
   },
   "id": "af935199ce64b9c2"
  },
  {
   "cell_type": "code",
   "execution_count": 17,
   "outputs": [],
   "source": [
    "img=img.resize((512,512))\n",
    "img.show()"
   ],
   "metadata": {
    "collapsed": false,
    "ExecuteTime": {
     "end_time": "2023-11-06T13:26:54.075358800Z",
     "start_time": "2023-11-06T13:26:50.670542600Z"
    }
   },
   "id": "94dea157522c978a"
  },
  {
   "cell_type": "code",
   "execution_count": null,
   "outputs": [],
   "source": [],
   "metadata": {
    "collapsed": false
   },
   "id": "bd715e3f91b66eaa"
  }
 ],
 "metadata": {
  "kernelspec": {
   "display_name": "Python 3",
   "language": "python",
   "name": "python3"
  },
  "language_info": {
   "codemirror_mode": {
    "name": "ipython",
    "version": 2
   },
   "file_extension": ".py",
   "mimetype": "text/x-python",
   "name": "python",
   "nbconvert_exporter": "python",
   "pygments_lexer": "ipython2",
   "version": "2.7.6"
  }
 },
 "nbformat": 4,
 "nbformat_minor": 5
}
