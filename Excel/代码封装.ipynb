{
 "cells": [
  {
   "cell_type": "code",
   "execution_count": 7,
   "id": "initial_id",
   "metadata": {
    "collapsed": true,
    "ExecuteTime": {
     "end_time": "2023-11-07T05:59:03.331819900Z",
     "start_time": "2023-11-07T05:59:03.326820300Z"
    }
   },
   "outputs": [],
   "source": [
    "from PIL import Image\n",
    "import xlsxwriter"
   ]
  },
  {
   "cell_type": "code",
   "execution_count": 8,
   "outputs": [],
   "source": [
    "# RGB格式颜色转换为16进制颜色格式\n",
    "def RGB_to_Hex(colors):\n",
    "    item = colors.split(',')            # 将RGB格式划分开来\n",
    "    color = '#'\n",
    "    for i in item:\n",
    "        num = int(i)\n",
    "        # 将R、G、B分别转化为16进制拼接转换并大写  hex() 函数用于将10进制整数转换成16进制，以字符串形式表示\n",
    "        color += str(hex(num))[-2:].replace('x', '0').upper()\n",
    "    return color"
   ],
   "metadata": {
    "collapsed": false,
    "ExecuteTime": {
     "end_time": "2023-11-07T05:59:04.089085400Z",
     "start_time": "2023-11-07T05:59:04.080587600Z"
    }
   },
   "id": "6f49c60ad297cdde"
  },
  {
   "cell_type": "code",
   "execution_count": 45,
   "outputs": [],
   "source": [
    "def img_to_excel(img_path,excel_to_name='pic.xlsx',scale_size=0.3,max_width=500):\n",
    "    \"\"\"\n",
    "    :param img_path: 图片路径\n",
    "    :param excel_to_name: 导出excel名称,默认为pic.xlsx\n",
    "    :param scale_size: 若图片过大，设置缩放尺寸\n",
    "    :param max_width: 图片的最大宽度\n",
    "    :return: \n",
    "    \"\"\"\n",
    "    if not isinstance(img_path,str) or not isinstance(excel_to_name,str):\n",
    "        print(\"参数类型错误\")\n",
    "        return \n",
    "    \n",
    "    img=Image.open(img_path)\n",
    "    if img.width>max_width:\n",
    "        newwidth=int(scale_size*img.width)\n",
    "        newheight=int(scale_size*img.height)\n",
    "        img=img.resize((newwidth,newheight))\n",
    "\n",
    "   \n",
    "    \n",
    "    workbook = xlsxwriter.Workbook(excel_to_name)  #创建工作蒲\n",
    "    worksheet = workbook.add_worksheet()  #创建表\n",
    "    #设置行高和列宽\n",
    "    worksheet.set_default_row(9)\n",
    "    print(img.width)\n",
    "    print(img.height)\n",
    "    worksheet.set_column(0, img.width, 1)\n",
    "    \n",
    "    for i in range(img.width):\n",
    "        for j in range(img.height):\n",
    "            color=tuple([item - item%5 for item in img.getpixel((i, j))])\n",
    "            rgb = str(color[0]) + ',' + str(color[1]) + ',' + str(color[2])\n",
    "            #r,g,b,t=img.getpixel((i,j))\n",
    "            #rgb=str(r)+','+str(g)+','+str(b)\n",
    "            #print(rgb1,RGB_to_Hex(rgb1),rgb,RGB_to_Hex(rgb))\n",
    "            cell_format=workbook.add_format({'bg_color':RGB_to_Hex(rgb)})\n",
    "            worksheet.write(j,i,'',cell_format)\n",
    "    workbook.close()      \n",
    "    print('success!')"
   ],
   "metadata": {
    "collapsed": false,
    "ExecuteTime": {
     "end_time": "2023-11-07T08:31:43.776563400Z",
     "start_time": "2023-11-07T08:31:43.771563800Z"
    }
   },
   "id": "524f725afe43cf12"
  },
  {
   "cell_type": "code",
   "execution_count": 41,
   "outputs": [
    {
     "name": "stdout",
     "output_type": "stream",
     "text": [
      "(692, 506)\n",
      "692\n",
      "506\n",
      "success!\n"
     ]
    }
   ],
   "source": [
    "img_to_excel(\"./字节数.png\",'inf.xlsx',0.8)"
   ],
   "metadata": {
    "collapsed": false,
    "ExecuteTime": {
     "end_time": "2023-11-07T08:30:44.299575100Z",
     "start_time": "2023-11-07T08:30:29.386871900Z"
    }
   },
   "id": "89f5aa97fc8d7fdc"
  },
  {
   "cell_type": "code",
   "execution_count": 46,
   "outputs": [
    {
     "name": "stdout",
     "output_type": "stream",
     "text": [
      "619\n",
      "539\n",
      "success!\n"
     ]
    }
   ],
   "source": [
    "img_to_excel(\"./孙悟空.jpeg\",'pic.xlsx',0.5)"
   ],
   "metadata": {
    "collapsed": false,
    "ExecuteTime": {
     "end_time": "2023-11-07T08:32:02.014406100Z",
     "start_time": "2023-11-07T08:31:53.767301Z"
    }
   },
   "id": "44ec9e8575dc00e1"
  },
  {
   "cell_type": "code",
   "execution_count": 163,
   "outputs": [],
   "source": [],
   "metadata": {
    "collapsed": false,
    "ExecuteTime": {
     "end_time": "2023-11-07T03:02:26.444255400Z",
     "start_time": "2023-11-07T03:02:26.441255600Z"
    }
   },
   "id": "e058ba120fb411d6"
  },
  {
   "cell_type": "code",
   "execution_count": null,
   "outputs": [],
   "source": [],
   "metadata": {
    "collapsed": false
   },
   "id": "28a9f123ded3d933"
  }
 ],
 "metadata": {
  "kernelspec": {
   "display_name": "Python 3",
   "language": "python",
   "name": "python3"
  },
  "language_info": {
   "codemirror_mode": {
    "name": "ipython",
    "version": 2
   },
   "file_extension": ".py",
   "mimetype": "text/x-python",
   "name": "python",
   "nbconvert_exporter": "python",
   "pygments_lexer": "ipython2",
   "version": "2.7.6"
  }
 },
 "nbformat": 4,
 "nbformat_minor": 5
}
