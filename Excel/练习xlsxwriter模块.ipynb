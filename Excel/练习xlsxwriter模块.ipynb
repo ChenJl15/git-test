{
 "cells": [
  {
   "cell_type": "code",
   "execution_count": 25,
   "id": "initial_id",
   "metadata": {
    "collapsed": true,
    "ExecuteTime": {
     "end_time": "2023-11-06T14:17:05.491017600Z",
     "start_time": "2023-11-06T14:17:05.478517300Z"
    }
   },
   "outputs": [],
   "source": [
    "import xlsxwriter"
   ]
  },
  {
   "cell_type": "code",
   "execution_count": 26,
   "outputs": [],
   "source": [
    "workbook=xlsxwriter.Workbook(\"dog.xlsx\")#创建工作蒲\n",
    "worksheet=workbook.add_worksheet()#创建表"
   ],
   "metadata": {
    "collapsed": false,
    "ExecuteTime": {
     "end_time": "2023-11-06T14:17:05.492517800Z",
     "start_time": "2023-11-06T14:17:05.481518Z"
    }
   },
   "id": "18cce793555bf5e1"
  },
  {
   "cell_type": "code",
   "execution_count": 27,
   "outputs": [
    {
     "data": {
      "text/plain": "0"
     },
     "execution_count": 27,
     "metadata": {},
     "output_type": "execute_result"
    }
   ],
   "source": [
    "#设置行高和列宽\n",
    "worksheet.set_default_row(9)\n",
    "worksheet.set_column(0,1000,1)"
   ],
   "metadata": {
    "collapsed": false,
    "ExecuteTime": {
     "end_time": "2023-11-06T14:17:05.514518800Z",
     "start_time": "2023-11-06T14:17:05.493018300Z"
    }
   },
   "id": "3eabaf317b2f5300"
  },
  {
   "cell_type": "code",
   "execution_count": 28,
   "outputs": [
    {
     "data": {
      "text/plain": "0"
     },
     "execution_count": 28,
     "metadata": {},
     "output_type": "execute_result"
    }
   ],
   "source": [
    "cell_format=workbook.add_format({'bg_color':'#000000'})\n",
    "worksheet.write(0,0,'',cell_format)"
   ],
   "metadata": {
    "collapsed": false,
    "ExecuteTime": {
     "end_time": "2023-11-06T14:17:05.542517700Z",
     "start_time": "2023-11-06T14:17:05.507018100Z"
    }
   },
   "id": "ff3c65fc6dfb0d29"
  },
  {
   "cell_type": "code",
   "execution_count": 29,
   "outputs": [],
   "source": [
    "workbook.close()"
   ],
   "metadata": {
    "collapsed": false,
    "ExecuteTime": {
     "end_time": "2023-11-06T14:17:05.543517600Z",
     "start_time": "2023-11-06T14:17:05.522017900Z"
    }
   },
   "id": "737d3c833a0c63c7"
  },
  {
   "cell_type": "code",
   "execution_count": 29,
   "outputs": [],
   "source": [],
   "metadata": {
    "collapsed": false,
    "ExecuteTime": {
     "end_time": "2023-11-06T14:17:05.543517600Z",
     "start_time": "2023-11-06T14:17:05.541518Z"
    }
   },
   "id": "f242eb894200c6b4"
  }
 ],
 "metadata": {
  "kernelspec": {
   "display_name": "Python 3",
   "language": "python",
   "name": "python3"
  },
  "language_info": {
   "codemirror_mode": {
    "name": "ipython",
    "version": 2
   },
   "file_extension": ".py",
   "mimetype": "text/x-python",
   "name": "python",
   "nbconvert_exporter": "python",
   "pygments_lexer": "ipython2",
   "version": "2.7.6"
  }
 },
 "nbformat": 4,
 "nbformat_minor": 5
}
