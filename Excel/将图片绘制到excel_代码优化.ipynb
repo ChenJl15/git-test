{
 "cells": [
  {
   "cell_type": "code",
   "execution_count": 72,
   "outputs": [],
   "source": [
    "from PIL import Image\n",
    "import xlsxwriter"
   ],
   "metadata": {
    "collapsed": false,
    "ExecuteTime": {
     "end_time": "2023-11-07T06:44:45.220829800Z",
     "start_time": "2023-11-07T06:44:45.166332100Z"
    }
   },
   "id": "initial_id"
  },
  {
   "cell_type": "code",
   "execution_count": 89,
   "outputs": [],
   "source": [
    "img=Image.open(\"./孙悟空.jpeg\")\n",
    "#img.show()"
   ],
   "metadata": {
    "collapsed": false,
    "ExecuteTime": {
     "end_time": "2023-11-07T06:57:35.957819700Z",
     "start_time": "2023-11-07T06:57:35.945821500Z"
    }
   },
   "id": "fce2782e320c1cd1"
  },
  {
   "cell_type": "code",
   "execution_count": 90,
   "outputs": [],
   "source": [
    "# def resizePic(img,size):\n",
    "#     newwidth=int(size*img.width)\n",
    "#     newheight=int(size*img.height)\n",
    "#     img=img.resize((newwidth,newheight))\n",
    "#     print(img.size)\n",
    "#     return img"
   ],
   "metadata": {
    "collapsed": false,
    "ExecuteTime": {
     "end_time": "2023-11-07T06:57:36.517256600Z",
     "start_time": "2023-11-07T06:57:36.508255300Z"
    }
   },
   "id": "782f9447f4682fe7"
  },
  {
   "cell_type": "code",
   "execution_count": 91,
   "outputs": [],
   "source": [
    "def RGB_to_Hex(colors):\n",
    "    item = colors.split(',')            # 将RGB格式划分开来\n",
    "    color = '#'\n",
    "    for i in item:\n",
    "        num = int(i)\n",
    "        # 将R、G、B分别转化为16进制拼接转换并大写  hex() 函数用于将10进制整数转换成16进制，以字符串形式表示\n",
    "        color += str(hex(num))[-2:].replace('x', '0').upper()\n",
    "    return color"
   ],
   "metadata": {
    "collapsed": false,
    "ExecuteTime": {
     "end_time": "2023-11-07T06:57:37.091896400Z",
     "start_time": "2023-11-07T06:57:37.076898100Z"
    }
   },
   "id": "85a2ac53ee77e082"
  },
  {
   "cell_type": "code",
   "execution_count": 92,
   "outputs": [
    {
     "data": {
      "text/plain": "'#7BFF59'"
     },
     "execution_count": 92,
     "metadata": {},
     "output_type": "execute_result"
    }
   ],
   "source": [
    "# RGB_to_Hex('123,255,345')"
   ],
   "metadata": {
    "collapsed": false,
    "ExecuteTime": {
     "end_time": "2023-11-07T06:57:38.082917500Z",
     "start_time": "2023-11-07T06:57:38.076916800Z"
    }
   },
   "id": "b1361cd32bdd2c9f"
  },
  {
   "cell_type": "code",
   "execution_count": 93,
   "outputs": [
    {
     "data": {
      "text/plain": "(120, 116, 187, 255)"
     },
     "execution_count": 93,
     "metadata": {},
     "output_type": "execute_result"
    }
   ],
   "source": [
    "img.getpixel((10,0))"
   ],
   "metadata": {
    "collapsed": false,
    "ExecuteTime": {
     "end_time": "2023-11-07T06:57:38.921012100Z",
     "start_time": "2023-11-07T06:57:38.871016Z"
    }
   },
   "id": "613eced7a42f8eb8"
  },
  {
   "cell_type": "code",
   "execution_count": 93,
   "outputs": [],
   "source": [],
   "metadata": {
    "collapsed": false,
    "ExecuteTime": {
     "end_time": "2023-11-07T06:57:40.539831700Z",
     "start_time": "2023-11-07T06:57:40.532331600Z"
    }
   },
   "id": "94ea72e6ba55d9ef"
  },
  {
   "cell_type": "code",
   "execution_count": 94,
   "outputs": [
    {
     "data": {
      "text/plain": "'120,115,185'"
     },
     "execution_count": 94,
     "metadata": {},
     "output_type": "execute_result"
    }
   ],
   "source": [
    "# color=tuple([item - item%5 for item in img.getpixel((10,0))])\n",
    "# rgb=str(color[0])+','+str(color[1])+','+str(color[2])\n",
    "# rgb"
   ],
   "metadata": {
    "collapsed": false,
    "ExecuteTime": {
     "end_time": "2023-11-07T06:57:44.938173300Z",
     "start_time": "2023-11-07T06:57:44.922175400Z"
    }
   },
   "id": "5775c87a660494b"
  },
  {
   "cell_type": "code",
   "execution_count": 95,
   "outputs": [],
   "source": [
    "# img=resizePic(img,0.3)"
   ],
   "metadata": {
    "collapsed": false,
    "ExecuteTime": {
     "end_time": "2023-11-07T06:57:46.217015100Z",
     "start_time": "2023-11-07T06:57:46.194007400Z"
    }
   },
   "id": "c3b712011510387"
  },
  {
   "cell_type": "code",
   "execution_count": 96,
   "outputs": [],
   "source": [
    "workbook = xlsxwriter.Workbook(\"pic.xlsx\")  #创建工作蒲\n",
    "worksheet = workbook.add_worksheet()  #创建表"
   ],
   "metadata": {
    "collapsed": false,
    "ExecuteTime": {
     "end_time": "2023-11-07T06:57:48.969504400Z",
     "start_time": "2023-11-07T06:57:48.963590600Z"
    }
   },
   "id": "ff6ae83ffcc6251d"
  },
  {
   "cell_type": "code",
   "execution_count": 97,
   "outputs": [
    {
     "data": {
      "text/plain": "0"
     },
     "execution_count": 97,
     "metadata": {},
     "output_type": "execute_result"
    }
   ],
   "source": [
    "#设置行高和列宽\n",
    "worksheet.set_default_row(9)\n",
    "worksheet.set_column(0, img.width, 1)"
   ],
   "metadata": {
    "collapsed": false,
    "ExecuteTime": {
     "end_time": "2023-11-07T06:57:48.975504Z",
     "start_time": "2023-11-07T06:57:48.968504500Z"
    }
   },
   "id": "419cfd133ed968ae"
  },
  {
   "cell_type": "code",
   "execution_count": 98,
   "outputs": [],
   "source": [
    "# rgb=img.getpixel((1,15))\n",
    "# rgb"
   ],
   "metadata": {
    "collapsed": false,
    "ExecuteTime": {
     "end_time": "2023-11-07T06:57:57.282983500Z",
     "start_time": "2023-11-07T06:57:57.252905300Z"
    }
   },
   "id": "9161e33641201b80"
  },
  {
   "cell_type": "code",
   "execution_count": 99,
   "outputs": [],
   "source": [
    "for i in range(img.width):\n",
    "    for j in range(img.height):\n",
    "        # color=tuple([item - item%5 for item in img.getpixel((i, j))])\n",
    "        # rgb = str(color[0]) + ',' + str(color[1]) + ',' + str(color[2])\n",
    "        r,g,b,t=img.getpixel((i,j))\n",
    "        rgb=str(r)+','+str(g)+','+str(b)\n",
    "        cell_format = workbook.add_format({'bg_color':RGB_to_Hex(rgb) })\n",
    "        worksheet.write(j,i,'',cell_format)\n",
    "workbook.close()"
   ],
   "metadata": {
    "collapsed": false,
    "ExecuteTime": {
     "end_time": "2023-11-07T06:58:42.372989Z",
     "start_time": "2023-11-07T06:57:57.955009200Z"
    }
   },
   "id": "32fcef35f5d7ab2a"
  },
  {
   "cell_type": "code",
   "execution_count": 82,
   "outputs": [],
   "source": [
    "# for i in range(img.width):\n",
    "#     for j in range(img.height):\n",
    "#         rgb=img.getpixel((i,j))\n",
    "#         cell_format=workbook.add_format({'bg_color':'#%02x%02x%02x%02x'%rgb})\n",
    "#         worksheet.write(j,i,'',cell_format)"
   ],
   "metadata": {
    "collapsed": false,
    "ExecuteTime": {
     "end_time": "2023-11-07T06:45:21.704656100Z",
     "start_time": "2023-11-07T06:45:21.698655700Z"
    }
   },
   "id": "ae2d7383764fc570"
  },
  {
   "cell_type": "code",
   "execution_count": 83,
   "outputs": [],
   "source": [
    "# workbook.close()"
   ],
   "metadata": {
    "collapsed": false,
    "ExecuteTime": {
     "end_time": "2023-11-07T06:45:21.743846700Z",
     "start_time": "2023-11-07T06:45:21.704156400Z"
    }
   },
   "id": "66b0845bb2e4f56"
  },
  {
   "cell_type": "markdown",
   "source": [
    "---"
   ],
   "metadata": {
    "collapsed": false
   },
   "id": "b108f1d4a1921b2f"
  },
  {
   "cell_type": "markdown",
   "source": [
    "# RGB格式颜色转换为16进制颜色格式\n",
    "def RGB_to_Hex(colors):\n",
    "    item = colors.split(',')            # 将RGB格式划分开来\n",
    "    color = '#'\n",
    "    for i in item:\n",
    "        num = int(i)\n",
    "        # 将R、G、B分别转化为16进制拼接转换并大写  hex() 函数用于将10进制整数转换成16进制，以字符串形式表示\n",
    "        color += str(hex(num))[-2:].replace('x', '0').upper()\n",
    "    return color"
   ],
   "metadata": {
    "collapsed": false
   },
   "id": "b8482d46c5a2caff"
  },
  {
   "cell_type": "code",
   "execution_count": 84,
   "outputs": [],
   "source": [
    "# img=Image.open(\"./字节数.png\")\n",
    "# #img.show()\n",
    "# \n",
    "# print(img.size) \n",
    "# \n",
    "# workbook = xlsxwriter.Workbook(\"inf.xlsx\")  #创建工作蒲\n",
    "# worksheet = workbook.add_worksheet()  #创建表\n",
    "# #设置行高和列宽\n",
    "# worksheet.set_default_row(9)\n",
    "# print(img.width)\n",
    "# worksheet.set_column(0, img.width, 1)\n",
    "# for i in range(img.width):\n",
    "#     for j in range(img.height):\n",
    "#         r,g,b,t=img.getpixel((i,j))\n",
    "#         rgb=str(r)+','+str(g)+','+str(b)\n",
    "#         cell_format=workbook.add_format({'bg_color':RGB_to_Hex(rgb)})\n",
    "#         worksheet.write(j,i,'',cell_format)\n",
    "# workbook.close()   "
   ],
   "metadata": {
    "collapsed": false,
    "ExecuteTime": {
     "end_time": "2023-11-07T06:45:21.750346800Z",
     "start_time": "2023-11-07T06:45:21.741846700Z"
    }
   },
   "id": "e62177257f58ebe2"
  }
 ],
 "metadata": {
  "kernelspec": {
   "display_name": "Python 3",
   "language": "python",
   "name": "python3"
  },
  "language_info": {
   "codemirror_mode": {
    "name": "ipython",
    "version": 2
   },
   "file_extension": ".py",
   "mimetype": "text/x-python",
   "name": "python",
   "nbconvert_exporter": "python",
   "pygments_lexer": "ipython2",
   "version": "2.7.6"
  }
 },
 "nbformat": 4,
 "nbformat_minor": 5
}
